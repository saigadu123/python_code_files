{
 "cells": [
  {
   "cell_type": "code",
   "execution_count": 1,
   "id": "85df06ed",
   "metadata": {},
   "outputs": [
    {
     "data": {
      "text/plain": [
       "2"
      ]
     },
     "execution_count": 1,
     "metadata": {},
     "output_type": "execute_result"
    }
   ],
   "source": [
    "# Function for addition\n",
    "\n",
    "def addition(a,b):\n",
    "    \"\"\"\n",
    "    Function to calculate sum of two numbers\n",
    "    \"\"\"\n",
    "    return a+b\n",
    "\n",
    "addition(1,1)"
   ]
  },
  {
   "cell_type": "code",
   "execution_count": 2,
   "id": "908e3ac3",
   "metadata": {},
   "outputs": [
    {
     "data": {
      "text/plain": [
       "2"
      ]
     },
     "execution_count": 2,
     "metadata": {},
     "output_type": "execute_result"
    }
   ],
   "source": [
    "# Function for subtraction\n",
    "\n",
    "def subtraction(a,b):\n",
    "    \"\"\"\n",
    "    Function to subtract two numbers\n",
    "    \"\"\"\n",
    "    return a-b\n",
    "\n",
    "subtraction(5,3)"
   ]
  },
  {
   "cell_type": "code",
   "execution_count": 3,
   "id": "8e7acace",
   "metadata": {},
   "outputs": [
    {
     "data": {
      "text/plain": [
       "6"
      ]
     },
     "execution_count": 3,
     "metadata": {},
     "output_type": "execute_result"
    }
   ],
   "source": [
    "# Function for Multiplication\n",
    "\n",
    "def Multiplication(a,b):\n",
    "    \"\"\"\n",
    "    Function to get multiplication of two numbers\n",
    "    \"\"\"\n",
    "    return a*b\n",
    "\n",
    "Multiplication(3,2)"
   ]
  },
  {
   "cell_type": "code",
   "execution_count": 4,
   "id": "cbcd9b23",
   "metadata": {},
   "outputs": [
    {
     "data": {
      "text/plain": [
       "2.0"
      ]
     },
     "execution_count": 4,
     "metadata": {},
     "output_type": "execute_result"
    }
   ],
   "source": [
    "# Function for Division\n",
    "\n",
    "def Division(a,b):\n",
    "    \"\"\"\n",
    "    Function for division of two numbers\n",
    "    \"\"\"\n",
    "    return a/b\n",
    "\n",
    "Division(4,2)"
   ]
  },
  {
   "cell_type": "code",
   "execution_count": null,
   "id": "7652de5f",
   "metadata": {},
   "outputs": [],
   "source": []
  }
 ],
 "metadata": {
  "kernelspec": {
   "display_name": "Python 3 (ipykernel)",
   "language": "python",
   "name": "python3"
  },
  "language_info": {
   "codemirror_mode": {
    "name": "ipython",
    "version": 3
   },
   "file_extension": ".py",
   "mimetype": "text/x-python",
   "name": "python",
   "nbconvert_exporter": "python",
   "pygments_lexer": "ipython3",
   "version": "3.9.13"
  }
 },
 "nbformat": 4,
 "nbformat_minor": 5
}
