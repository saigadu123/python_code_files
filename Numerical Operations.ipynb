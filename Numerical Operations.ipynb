{
 "cells": [
  {
   "cell_type": "code",
   "execution_count": 1,
   "id": "a103157b",
   "metadata": {},
   "outputs": [
    {
     "name": "stdout",
     "output_type": "stream",
     "text": [
      "Enter the Number:23\n",
      "The Given number is 23 and Reverse is 32\n"
     ]
    }
   ],
   "source": [
    "# Python code to reverse the number \n",
    "\n",
    "num = int(input(\"Enter the Number:\"))\n",
    "temp = num\n",
    "reverse = 0\n",
    "while num > 0:\n",
    "    remainder = num % 10\n",
    "    reverse = (reverse * 10) + remainder\n",
    "    num = num // 10\n",
    "\n",
    "print(\"The Given number is {} and Reverse is {}\".format(temp, reverse))"
   ]
  },
  {
   "cell_type": "code",
   "execution_count": 4,
   "id": "a729321d",
   "metadata": {},
   "outputs": [
    {
     "name": "stdout",
     "output_type": "stream",
     "text": [
      "Enter any number: 6\n",
      "The number is a Perfect number\n"
     ]
    }
   ],
   "source": [
    "# Python code to check whether the number is perfect number or not\n",
    "\n",
    "n = int(input(\"Enter any number: \"))\n",
    "sump= 0\n",
    "for i in range(1, n):\n",
    "    if(n % i == 0):\n",
    "        sump= sump + i\n",
    "if (sump == n):\n",
    "    print(\"The number is a Perfect number\")\n",
    "else:\n",
    "    print(\"The number is not a Perfect number\")"
   ]
  },
  {
   "cell_type": "code",
   "execution_count": 5,
   "id": "2e8d78af",
   "metadata": {},
   "outputs": [
    {
     "name": "stdout",
     "output_type": "stream",
     "text": [
      "Enter a number: 2\n",
      "2 is Even\n"
     ]
    }
   ],
   "source": [
    "# Python code to find number is odd or even\n",
    "\n",
    "num = int(input(\"Enter a number: \"))\n",
    "if (num % 2) == 0:\n",
    "   print(\"{0} is Even\".format(num))\n",
    "else:\n",
    "   print(\"{0} is Odd\".format(num))"
   ]
  },
  {
   "cell_type": "code",
   "execution_count": 6,
   "id": "a36e2899",
   "metadata": {},
   "outputs": [
    {
     "name": "stdout",
     "output_type": "stream",
     "text": [
      "Enter a number: -3\n",
      "Negative number\n"
     ]
    }
   ],
   "source": [
    "# Python code to check number is positive or negative\n",
    "\n",
    "num = float(input(\"Enter a number: \"))\n",
    "# Input: 1.2\n",
    "if num > 0:\n",
    "   print(\"Positive number\")\n",
    "elif num == 0:\n",
    "   print(\"Zero\")\n",
    "else:\n",
    "   print(\"Negative number\")\n",
    "\n"
   ]
  },
  {
   "cell_type": "code",
   "execution_count": 8,
   "id": "99a0c1af",
   "metadata": {},
   "outputs": [
    {
     "name": "stdout",
     "output_type": "stream",
     "text": [
      "enter a number: 6\n",
      "6 is not a prime number\n"
     ]
    }
   ],
   "source": [
    "# Python code to check given number is prime or not\n",
    "\n",
    "num = int(input(\"enter a number: \"))\n",
    "# input: 23\n",
    "flag = False\n",
    "if num > 1:\n",
    "    for i in range(2, num):\n",
    "        if (num % i) == 0:\n",
    "            flag = True\n",
    "            break\n",
    "\n",
    "if flag:\n",
    "    print(num, \"is not a prime number\")\n",
    "else:\n",
    "    print(num, \"is a prime number\")\n"
   ]
  },
  {
   "cell_type": "code",
   "execution_count": 10,
   "id": "df1e91c8",
   "metadata": {},
   "outputs": [
    {
     "name": "stdout",
     "output_type": "stream",
     "text": [
      "Enter a number: 407\n",
      "407 is an Armstrong number\n"
     ]
    }
   ],
   "source": [
    "# Python code to check whether the number is armstrong number or not\n",
    "\n",
    "num = int(input(\"Enter a number: \"))\n",
    "\n",
    "sum = 0\n",
    "temp = num\n",
    "while temp > 0:\n",
    "    digit = temp % 10\n",
    "    sum += digit ** 3\n",
    "    temp //= 10\n",
    "if num == sum:\n",
    "    print(num,\"is an Armstrong number\")\n",
    "else:\n",
    "    print(num,\"is not an Armstrong number\")\n"
   ]
  },
  {
   "cell_type": "code",
   "execution_count": null,
   "id": "73adc72e",
   "metadata": {},
   "outputs": [],
   "source": []
  }
 ],
 "metadata": {
  "kernelspec": {
   "display_name": "Python 3 (ipykernel)",
   "language": "python",
   "name": "python3"
  },
  "language_info": {
   "codemirror_mode": {
    "name": "ipython",
    "version": 3
   },
   "file_extension": ".py",
   "mimetype": "text/x-python",
   "name": "python",
   "nbconvert_exporter": "python",
   "pygments_lexer": "ipython3",
   "version": "3.9.13"
  }
 },
 "nbformat": 4,
 "nbformat_minor": 5
}
