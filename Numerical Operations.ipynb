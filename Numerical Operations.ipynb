{
 "cells": [
  {
   "cell_type": "code",
   "execution_count": 1,
   "id": "a103157b",
   "metadata": {},
   "outputs": [
    {
     "name": "stdout",
     "output_type": "stream",
     "text": [
      "Enter the Number:23\n",
      "The Given number is 23 and Reverse is 32\n"
     ]
    }
   ],
   "source": [
    "# Python code to reverse the number \n",
    "\n",
    "num = int(input(\"Enter the Number:\"))\n",
    "temp = num\n",
    "reverse = 0\n",
    "while num > 0:\n",
    "    remainder = num % 10\n",
    "    reverse = (reverse * 10) + remainder\n",
    "    num = num // 10\n",
    "\n",
    "print(\"The Given number is {} and Reverse is {}\".format(temp, reverse))"
   ]
  },
  {
   "cell_type": "code",
   "execution_count": 4,
   "id": "a729321d",
   "metadata": {},
   "outputs": [
    {
     "name": "stdout",
     "output_type": "stream",
     "text": [
      "Enter any number: 6\n",
      "The number is a Perfect number\n"
     ]
    }
   ],
   "source": [
    "# Python code to check whether the number is perfect number or not\n",
    "\n",
    "n = int(input(\"Enter any number: \"))\n",
    "sump= 0\n",
    "for i in range(1, n):\n",
    "    if(n % i == 0):\n",
    "        sump= sump + i\n",
    "if (sump == n):\n",
    "    print(\"The number is a Perfect number\")\n",
    "else:\n",
    "    print(\"The number is not a Perfect number\")"
   ]
  },
  {
   "cell_type": "code",
   "execution_count": null,
   "id": "2e8d78af",
   "metadata": {},
   "outputs": [],
   "source": []
  }
 ],
 "metadata": {
  "kernelspec": {
   "display_name": "Python 3 (ipykernel)",
   "language": "python",
   "name": "python3"
  },
  "language_info": {
   "codemirror_mode": {
    "name": "ipython",
    "version": 3
   },
   "file_extension": ".py",
   "mimetype": "text/x-python",
   "name": "python",
   "nbconvert_exporter": "python",
   "pygments_lexer": "ipython3",
   "version": "3.9.13"
  }
 },
 "nbformat": 4,
 "nbformat_minor": 5
}
