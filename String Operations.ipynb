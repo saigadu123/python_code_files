{
 "cells": [
  {
   "cell_type": "code",
   "execution_count": 1,
   "id": "38591e6f",
   "metadata": {},
   "outputs": [
    {
     "name": "stdout",
     "output_type": "stream",
     "text": [
      "Enter the String :aba\n",
      "String is palindromic\n"
     ]
    }
   ],
   "source": [
    "# Python code to check whether the string is palindrome or not\n",
    "\n",
    "\n",
    "String1 = input('Enter the String :')\n",
    "\n",
    "String2 = String1[::-1]\n",
    "\n",
    "if String1 == String2:\n",
    "    print('String is palindromic')\n",
    "else:\n",
    "    print('Strings is not palindromic')"
   ]
  },
  {
   "cell_type": "code",
   "execution_count": 3,
   "id": "2842a27b",
   "metadata": {},
   "outputs": [
    {
     "name": "stdout",
     "output_type": "stream",
     "text": [
      "Enter the 1st string :abcd\n",
      "Enter the 2nd string :bcad\n",
      "Strings are anagram\n"
     ]
    }
   ],
   "source": [
    "# Python code to check two strings are anagram or not\n",
    "\n",
    "\n",
    "String1 = input(\"Enter the 1st string :\")\n",
    "String2 = input(\"Enter the 2nd string :\")\n",
    "\n",
    "if len(String1) != len(String2):\n",
    "   \n",
    "    print(\"Strings are not anagram\")\n",
    "else:\n",
    "    \n",
    "    String1 = sorted(String1)\n",
    "    String2 = sorted(String2)\n",
    "\n",
    "if String1 == String2:\n",
    "\n",
    "    print(\"Strings are anagram\")\n",
    "else:\n",
    "    print(\"Strings are not anagram\")"
   ]
  },
  {
   "cell_type": "code",
   "execution_count": 1,
   "id": "46fbb881",
   "metadata": {},
   "outputs": [
    {
     "name": "stdout",
     "output_type": "stream",
     "text": [
      "Enter the string :krishna\n",
      "Enter character :i\n",
      "1 is the frequency of given character\n"
     ]
    }
   ],
   "source": [
    "#Pyhton code to find frequency of a character in a string\n",
    "\n",
    "\n",
    "String = input('Enter the string :')\n",
    "\n",
    "Character = input('Enter character :')\n",
    "\n",
    "frequency = 0\n",
    "\n",
    "frequency = String.count(Character)\n",
    "\n",
    "print(str(frequency) + ' is the frequency of given character')"
   ]
  },
  {
   "cell_type": "code",
   "execution_count": 2,
   "id": "1047c8d7",
   "metadata": {},
   "outputs": [
    {
     "name": "stdout",
     "output_type": "stream",
     "text": [
      "code practice quiz geeks\n"
     ]
    }
   ],
   "source": [
    "# Reverse the words in the given string program\n",
    "\n",
    "string = \"geeks quiz practice code\"\n",
    "\n",
    "s = string.split()[::-1]\n",
    "l = []\n",
    "for i in s:\n",
    "    l.append(i)\n",
    "print(\" \".join(l))"
   ]
  },
  {
   "cell_type": "code",
   "execution_count": 3,
   "id": "e91ded56",
   "metadata": {},
   "outputs": [
    {
     "name": "stdout",
     "output_type": "stream",
     "text": [
      "Yes\n"
     ]
    }
   ],
   "source": [
    "# Python code to check whether string is binary string or not\n",
    "\n",
    "\n",
    " \n",
    "def check(string):\n",
    " \n",
    "\n",
    "    p = set(string)\n",
    "    s = {'0', '1'}\n",
    "\n",
    "    if s == p or p == {'0'} or p == {'1'}:\n",
    "        print(\"Yes\")\n",
    "    else:\n",
    "        print(\"No\")\n",
    " \n",
    " \n",
    "if __name__ == \"__main__\":\n",
    " \n",
    "    string = \"101010000111\"\n",
    "    check(string)"
   ]
  },
  {
   "cell_type": "code",
   "execution_count": null,
   "id": "790b0634",
   "metadata": {},
   "outputs": [],
   "source": []
  }
 ],
 "metadata": {
  "kernelspec": {
   "display_name": "Python 3 (ipykernel)",
   "language": "python",
   "name": "python3"
  },
  "language_info": {
   "codemirror_mode": {
    "name": "ipython",
    "version": 3
   },
   "file_extension": ".py",
   "mimetype": "text/x-python",
   "name": "python",
   "nbconvert_exporter": "python",
   "pygments_lexer": "ipython3",
   "version": "3.9.13"
  }
 },
 "nbformat": 4,
 "nbformat_minor": 5
}
