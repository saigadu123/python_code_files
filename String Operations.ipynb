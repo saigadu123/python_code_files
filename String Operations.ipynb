{
 "cells": [
  {
   "cell_type": "code",
   "execution_count": 1,
   "id": "38591e6f",
   "metadata": {},
   "outputs": [
    {
     "name": "stdout",
     "output_type": "stream",
     "text": [
      "Enter the String :aba\n",
      "String is palindromic\n"
     ]
    }
   ],
   "source": [
    "# Python code to check whether the string is palindrome or not\n",
    "\n",
    "#take user input\n",
    "String1 = input('Enter the String :')\n",
    "#initialize string and save reverse of 1st string\n",
    "String2 = String1[::-1]\n",
    "#check if both matches\n",
    "if String1 == String2:\n",
    "    print('String is palindromic')\n",
    "else:\n",
    "    print('Strings is not palindromic')"
   ]
  },
  {
   "cell_type": "code",
   "execution_count": 3,
   "id": "2842a27b",
   "metadata": {},
   "outputs": [
    {
     "name": "stdout",
     "output_type": "stream",
     "text": [
      "Enter the 1st string :abcd\n",
      "Enter the 2nd string :bcad\n",
      "Strings are anagram\n"
     ]
    }
   ],
   "source": [
    "# Python code to check two strings are anagram or not\n",
    "\n",
    "#take user input\n",
    "String1 = input(\"Enter the 1st string :\")\n",
    "String2 = input(\"Enter the 2nd string :\")\n",
    "#check if length matches\n",
    "if len(String1) != len(String2):\n",
    "    #if False\n",
    "    print(\"Strings are not anagram\")\n",
    "else:\n",
    "    #sorted function sort string by characters\n",
    "    String1 = sorted(String1)\n",
    "    String2 = sorted(String2)\n",
    "#check if now strings matches\n",
    "if String1 == String2:\n",
    "#if True\n",
    "    print(\"Strings are anagram\")\n",
    "else:\n",
    "    print(\"Strings are not anagram\")"
   ]
  },
  {
   "cell_type": "code",
   "execution_count": 1,
   "id": "46fbb881",
   "metadata": {},
   "outputs": [
    {
     "name": "stdout",
     "output_type": "stream",
     "text": [
      "Enter the string :krishna\n",
      "Enter character :i\n",
      "1 is the frequency of given character\n"
     ]
    }
   ],
   "source": [
    "#Pyhton code to find frequency of a character in a string\n",
    "\n",
    "#take user input\n",
    "String = input('Enter the string :')\n",
    "#take character input\n",
    "Character = input('Enter character :')\n",
    "#initiaalize int variable to store frequency\n",
    "frequency = 0\n",
    "#use count function to count frequency of character\n",
    "frequency = String.count(Character)\n",
    "#count function is case sencetive \n",
    "#so it print frequency of Character according to given Character\n",
    "print(str(frequency) + ' is the frequency of given character')"
   ]
  },
  {
   "cell_type": "code",
   "execution_count": null,
   "id": "1047c8d7",
   "metadata": {},
   "outputs": [],
   "source": []
  }
 ],
 "metadata": {
  "kernelspec": {
   "display_name": "Python 3 (ipykernel)",
   "language": "python",
   "name": "python3"
  },
  "language_info": {
   "codemirror_mode": {
    "name": "ipython",
    "version": 3
   },
   "file_extension": ".py",
   "mimetype": "text/x-python",
   "name": "python",
   "nbconvert_exporter": "python",
   "pygments_lexer": "ipython3",
   "version": "3.9.13"
  }
 },
 "nbformat": 4,
 "nbformat_minor": 5
}
